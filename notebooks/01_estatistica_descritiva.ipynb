{
 "cells": [
  {
   "cell_type": "markdown",
   "metadata": {
    "id": "qfajvoCGwGrX"
   },
   "source": [
    "# <b>Estatística Descritiva"
   ]
  },
  {
   "cell_type": "code",
   "execution_count": 38,
   "metadata": {
    "executionInfo": {
     "elapsed": 42,
     "status": "ok",
     "timestamp": 1748097233781,
     "user": {
      "displayName": "Hedson Lopes",
      "userId": "00601403561073870653"
     },
     "user_tz": 180
    },
    "id": "sncep6536SdK"
   },
   "outputs": [],
   "source": [
    "# Conjunto de dados\n",
    "amostra = [71, 73, 73, 74, 74, 75, 76, 77, 77, 79, 81, 83]"
   ]
  },
  {
   "cell_type": "markdown",
   "metadata": {
    "id": "r0_vs90wt7sd"
   },
   "source": [
    "## <b><i>Medidas de Tendencia Central\n",
    "### Média\n",
    "A média aritmética (ou simplesmente média) de um conjunto de $n$ valores $x_1, x_2, \\ldots, x_n$ é calculada pela fórmula:\n",
    "\n",
    "$\n",
    "\\bar{x} = \\frac{1}{n} \\sum_{i=1}^{n} x_i\n",
    "$\n",
    "\n",
    "Onde:\n",
    "- $\\bar{x}$ é a média;\n",
    "- $n$ é o número total de elementos;\n",
    "- $x_i$ representa cada um dos elementos do conjunto."
   ]
  },
  {
   "cell_type": "code",
   "execution_count": 39,
   "metadata": {
    "colab": {
     "base_uri": "https://localhost:8080/"
    },
    "executionInfo": {
     "elapsed": 44,
     "status": "ok",
     "timestamp": 1748097236519,
     "user": {
      "displayName": "Hedson Lopes",
      "userId": "00601403561073870653"
     },
     "user_tz": 180
    },
    "id": "-Pe543JfCWuj",
    "outputId": "b240afb6-3d20-4151-f096-40d902304a24"
   },
   "outputs": [
    {
     "name": "stdout",
     "output_type": "stream",
     "text": [
      "76.08333333333333\n"
     ]
    }
   ],
   "source": [
    "def media(conjunto_de_dados):\n",
    "    \"\"\"Calcula a média aritimética de um conjunto de dados\"\"\"\n",
    "    n = len(conjunto_de_dados)\n",
    "    soma_dos_dados = 0\n",
    "    for i in conjunto_de_dados:\n",
    "        soma_dos_dados += i\n",
    "        mean = soma_dos_dados / n\n",
    "    return mean\n",
    "\n",
    "print(media(amostra))"
   ]
  },
  {
   "cell_type": "markdown",
   "metadata": {
    "id": "diKEXELIxPqB"
   },
   "source": [
    "### Mediana\n",
    "A mediana é o valor central de um conjunto de dados ordenados. Se os dados estiverem organizados em ordem crescente:\n",
    "\n",
    "- Se o número de elementos $n$ for ímpar, a mediana é o valor que ocupa a posição central:\n",
    "  \n",
    "  $$\n",
    "  \\text{Mediana} = x_{\\left( \\frac{n+1}{2} \\right)}\n",
    "  $$\n",
    "\n",
    "- Se o número de elementos $n$ for par, a mediana é a média dos dois valores centrais:\n",
    "  \n",
    "  $$\n",
    "  \\text{Mediana} = \\frac{ x_{\\left( \\frac{n}{2} \\right)} + x_{\\left( \\frac{n}{2} + 1 \\right)} }{2}\n",
    "  $$\n",
    "\n",
    "Onde $ x_{(i)} $ representa o $ i $-ésimo valor após ordenar os dados."
   ]
  },
  {
   "cell_type": "code",
   "execution_count": 40,
   "metadata": {
    "colab": {
     "base_uri": "https://localhost:8080/"
    },
    "executionInfo": {
     "elapsed": 107,
     "status": "ok",
     "timestamp": 1748098784054,
     "user": {
      "displayName": "Hedson Lopes",
      "userId": "00601403561073870653"
     },
     "user_tz": 180
    },
    "id": "SqMcLZSdq9Dw",
    "outputId": "963121d0-21cb-4e14-b8bf-b3198a17959e"
   },
   "outputs": [
    {
     "name": "stdout",
     "output_type": "stream",
     "text": [
      "75.5\n"
     ]
    }
   ],
   "source": [
    "def mediana(conjunto_de_dados):\n",
    "    \"\"\"Calcula a mediana de um conjunto de dados\"\"\"\n",
    "    n = len(conjunto_de_dados)\n",
    "    x = n // 2\n",
    "    if n % 2 == 0:\n",
    "        return (conjunto_de_dados[x - 1] + conjunto_de_dados[x]) / 2\n",
    "    else:\n",
    "        return conjunto_de_dados[x - 1]\n",
    "\n",
    "print(mediana(amostra))"
   ]
  },
  {
   "cell_type": "markdown",
   "metadata": {
    "id": "GICrya5Q0G28"
   },
   "source": [
    "### Moda\n",
    "A moda é o valor que ocorre com maior frequência em um conjunto de dados.\n",
    "\n",
    "- Um conjunto pode ter:\n",
    "  - Uma única moda (unimodal),\n",
    "  - Duas modas (bimodal),\n",
    "  - Mais de duas modas (multimodal),\n",
    "  - Ou nenhuma moda (quando todos os valores ocorrem com a mesma frequência).\n",
    "\n",
    "Seja o conjunto de dados $ x_1, x_2, \\ldots, x_n $, a moda é o valor $ x $ tal que:\n",
    "\n",
    "$$\n",
    "\\text{Moda} = \\operatorname{arg\\,max}_{x_i} \\, f(x_i)\n",
    "$$\n",
    "\n",
    "Onde $ f(x_i) $ representa a frequência do valor $ x_i $ no conjunto de dados."
   ]
  },
  {
   "cell_type": "markdown",
   "metadata": {
    "id": "4apiAPJW0xlC"
   },
   "source": [
    "## <b><i>Medidas de Posição Relativa\n",
    "### Quartis\n",
    "Os quartis dividem um conjunto de dados ordenados em quatro partes iguais. Eles são usados para descrever a dispersão e a distribuição dos dados.\n",
    "\n",
    "- $Q_1$ (primeiro quartil) é o valor que separa os 25% menores dados do restante (25ª percentil).\n",
    "- $Q_2$ (segundo quartil) é a mediana, que separa os 50% menores dos 50% maiores dados (50ª percentil).\n",
    "- $Q_3$ (terceiro quartil) é o valor que separa os 75% menores dados dos 25% maiores (75ª percentil).\n",
    "\n",
    "A fórmula para calcular a posição do quartil em um conjunto de $n$ elementos ordenados é:\n",
    "\n",
    "$$\n",
    "Q_k = x_{\\left( \\frac{k(n+1)}{4} \\right)}\n",
    "$$\n",
    "\n",
    "Onde:\n",
    "- $Q_k$ representa o $k$-ésimo quartil (com $k = 1, 2, 3$),\n",
    "- $x_{(i)}$ é o $i$-ésimo valor da amostra ordenada,\n",
    "- A posição pode ser interpolada caso não resulte em um número inteiro.\n",
    "\n",
    "### Decis\n",
    "Os decis dividem um conjunto de dados ordenados em dez partes iguais. Eles são usados para descrever a posição relativa de um valor dentro do conjunto de dados.\n",
    "\n",
    "- Existem nove decis principais: $D_1, D_2, \\ldots, D_9$.\n",
    "- Por exemplo, $D_1$ separa os 10% menores dados dos 90% restantes, enquanto $D_5$ equivale à mediana (50ª percentil), e $D_9$ separa os 90% menores dos 10% maiores.\n",
    "\n",
    "A fórmula para calcular a posição de um decil em um conjunto com $n$ elementos é:\n",
    "\n",
    "$$\n",
    "D_k = x_{\\left( \\frac{k(n+1)}{10} \\right)}\n",
    "$$\n",
    "\n",
    "Onde:\n",
    "- $D_k$ representa o $k$-ésimo decil (com $k = 1, 2, \\ldots, 9$),\n",
    "- $x_{(i)}$ é o $i$-ésimo valor dos dados ordenados,\n",
    "- A posição pode ser interpolada se o resultado for fracionário.\n",
    "\n",
    "### Percentis\n",
    "Os percentis dividem um conjunto de dados ordenados em cem partes iguais. Eles são muito usados para indicar a posição relativa de um valor dentro do conjunto de dados.\n",
    "\n",
    "- Existem 99 percentis principais: $P_1, P_2, \\ldots, P_{99}$.\n",
    "- Por exemplo:\n",
    "  - $P_{25}$ corresponde ao primeiro quartil ($Q_1$),\n",
    "  - $P_{50}$ corresponde à mediana ($Q_2$),\n",
    "  - $P_{75}$ corresponde ao terceiro quartil ($Q_3$).\n",
    "\n",
    "A fórmula para calcular a posição de um percentil em um conjunto com $n$ elementos é:\n",
    "\n",
    "$$\n",
    "P_k = x_{\\left( \\frac{k(n+1)}{100} \\right)}\n",
    "$$\n",
    "\n",
    "Onde:\n",
    "- $P_k$ representa o $k$-ésimo percentil (com $k = 1, 2, \\ldots, 99$),\n",
    "- $x_{(i)}$ é o $i$-ésimo valor dos dados ordenados,\n",
    "- A posição pode ser interpolada caso o índice não seja inteiro."
   ]
  },
  {
   "cell_type": "code",
   "execution_count": 41,
   "metadata": {
    "colab": {
     "base_uri": "https://localhost:8080/"
    },
    "executionInfo": {
     "elapsed": 44,
     "status": "ok",
     "timestamp": 1747616424333,
     "user": {
      "displayName": "Hedson Lopes",
      "userId": "00601403561073870653"
     },
     "user_tz": 180
    },
    "id": "JjALzg48yoa3",
    "outputId": "5ce458d9-ba32-4b73-c443-abaf2791ca34"
   },
   "outputs": [
    {
     "name": "stdout",
     "output_type": "stream",
     "text": [
      "73\n"
     ]
    }
   ],
   "source": [
    "def percentil(conjunto_de_dados, k):\n",
    "    \"\"\"\n",
    "    Calcula o k-ésimo percentil de um conjunto de dados.\n",
    "\n",
    "    Parâmetros:\n",
    "    - conjunto_de_dados: lista ou array com os dados (não necessariamente ordenados)\n",
    "    - k: valor do percentil desejado (entre 0 e 100)\n",
    "\n",
    "    Retorna:\n",
    "    - p_k: valor no conjunto de dados que representa o k-ésimo percentil\n",
    "    \"\"\"\n",
    "    dados = sorted(conjunto_de_dados)\n",
    "    n = len(dados)\n",
    "    l = (k / 100) * n\n",
    "\n",
    "    if l == int(l):\n",
    "        l = int(l)\n",
    "        p_k = (dados[l - 1] + dados[l]) / 2\n",
    "    else:\n",
    "        l = int(l) + 1\n",
    "        p_k = dados[l - 1]\n",
    "\n",
    "    return p_k\n",
    "\n",
    "print(percentil(amostra, 20))"
   ]
  },
  {
   "cell_type": "markdown",
   "metadata": {
    "id": "Tb27Q-_h3cI2"
   },
   "source": [
    "### Escore-z\n",
    "O escore-z (ou valor z) é uma medida de padronização que indica **quantos desvios padrão** um valor está acima ou abaixo da média do conjunto de dados.\n",
    "\n",
    "Ele é útil para comparar valores de diferentes distribuições ou detectar outliers.\n",
    "\n",
    "A fórmula do escore-z é:\n",
    "\n",
    "$$\n",
    "z = \\frac{x - \\mu}{\\sigma}\n",
    "$$\n",
    "\n",
    "Onde:\n",
    "- $z$ é o escore padronizado do valor $x$,\n",
    "- $\\mu$ é a média do conjunto de dados,\n",
    "- $\\sigma$ é o desvio padrão populacional.\n",
    "\n",
    "Se estiver usando amostras (e não a população inteira), substitui-se $\\sigma$ pelo desvio padrão amostral $s$:\n",
    "\n",
    "$$\n",
    "z = \\frac{x - \\bar{x}}{s}\n",
    "$$"
   ]
  },
  {
   "cell_type": "code",
   "execution_count": 42,
   "metadata": {
    "colab": {
     "base_uri": "https://localhost:8080/"
    },
    "executionInfo": {
     "elapsed": 466,
     "status": "ok",
     "timestamp": 1747617449401,
     "user": {
      "displayName": "Hedson Lopes",
      "userId": "00601403561073870653"
     },
     "user_tz": 180
    },
    "id": "Mgm78FOU_0tp",
    "outputId": "cb625d45-1988-450d-a9fc-41e329485df4"
   },
   "outputs": [
    {
     "name": "stdout",
     "output_type": "stream",
     "text": [
      "2.0476669026895125\n"
     ]
    }
   ],
   "source": [
    "def escore_z(conjunto_de_dados, x):\n",
    "    \"\"\"\n",
    "    Calcula o escore-z (z-score) de um valor em relação a um conjunto de dados.\n",
    "    \n",
    "    Parâmetros:\n",
    "    - conjunto_de_dados: lista de valores (população ou amostra)\n",
    "    - x: valor cuja padronização será calculada\n",
    "    \n",
    "    Retorna:\n",
    "    - z: escore-z do valor x, indicando quantos desvios padrão ele está da média\n",
    "    \"\"\"\n",
    "    n = len(conjunto_de_dados)\n",
    "    # Média\n",
    "    soma_dos_dados = 0\n",
    "    for i in conjunto_de_dados:\n",
    "        soma_dos_dados += i\n",
    "        mean = soma_dos_dados / n\n",
    "    # Desvio Padrão\n",
    "    somatorio = 0\n",
    "    for i in conjunto_de_dados:\n",
    "        somatorio = ((i - mean) ** 2) + somatorio\n",
    "        s = (somatorio / n) ** 0.5\n",
    "    # Escore Z\n",
    "    z = (x - mean) / s\n",
    "    return z\n",
    "\n",
    "print(escore_z(amostra, 83))"
   ]
  },
  {
   "cell_type": "code",
   "execution_count": 43,
   "metadata": {
    "colab": {
     "base_uri": "https://localhost:8080/"
    },
    "executionInfo": {
     "elapsed": 49,
     "status": "ok",
     "timestamp": 1747617444682,
     "user": {
      "displayName": "Hedson Lopes",
      "userId": "00601403561073870653"
     },
     "user_tz": 180
    },
    "id": "Oy4BgdheHcrf",
    "outputId": "99eb5d1d-c645-4e46-868d-acf48765c02d"
   },
   "outputs": [
    {
     "name": "stdout",
     "output_type": "stream",
     "text": [
      "74.39441931670738\n"
     ]
    }
   ],
   "source": [
    "def z_invertido(conjunto_de_dados, z):\n",
    "    \"\"\"\n",
    "    Calcula o valor original (x) em um conjunto de dados a partir do escore-z (z-score).\n",
    "\n",
    "    Parâmetros:\n",
    "    - conjunto_de_dados: lista de dados numéricos (população ou amostra)\n",
    "    - z: escore-z conhecido\n",
    "\n",
    "    Retorna:\n",
    "    - x: valor correspondente ao escore-z fornecido\n",
    "    \"\"\"\n",
    "    n = len(conjunto_de_dados)\n",
    "    # Média\n",
    "    soma_dos_dados = 0\n",
    "    for i in conjunto_de_dados:\n",
    "        soma_dos_dados += i\n",
    "        mean = soma_dos_dados / n\n",
    "    # Desvio Padrão\n",
    "    somatorio = 0\n",
    "    for i in conjunto_de_dados:\n",
    "        somatorio = ((i - mean) ** 2) + somatorio\n",
    "        s = (somatorio / n) ** 0.5\n",
    "    # Escore Z Invertido\n",
    "    x = (z * s) + mean\n",
    "    return x\n",
    "\n",
    "print(z_invertido(amostra, -0.5))"
   ]
  },
  {
   "cell_type": "markdown",
   "metadata": {
    "id": "1HKEm6ao4G2d"
   },
   "source": [
    "## <b><i>Medidas de Dispersão\n",
    "### Amplitude\n",
    "A amplitude é uma medida de dispersão que representa a diferença entre o maior e o menor valor de um conjunto de dados.\n",
    "\n",
    "Ela mostra o intervalo total dos dados, sendo útil para ter uma noção básica da variação.\n",
    "\n",
    "A fórmula da amplitude é:\n",
    "\n",
    "$$\n",
    "\\text{Amplitude} = x_{\\text{máx}} - x_{\\text{mín}}\n",
    "$$\n",
    "\n",
    "Onde:\n",
    "- $x_{\\text{máx}}$ é o maior valor do conjunto de dados,\n",
    "- $x_{\\text{mín}}$ é o menor valor do conjunto de dados."
   ]
  },
  {
   "cell_type": "code",
   "execution_count": 44,
   "metadata": {
    "colab": {
     "base_uri": "https://localhost:8080/"
    },
    "executionInfo": {
     "elapsed": 45,
     "status": "ok",
     "timestamp": 1747618204620,
     "user": {
      "displayName": "Hedson Lopes",
      "userId": "00601403561073870653"
     },
     "user_tz": 180
    },
    "id": "UqqzVR8Hj5ju",
    "outputId": "5a77b45e-99c9-41e7-efac-19689c48b08b"
   },
   "outputs": [
    {
     "name": "stdout",
     "output_type": "stream",
     "text": [
      "12\n"
     ]
    }
   ],
   "source": [
    "# Cálculo da Amplitude\n",
    "amplitude = amostra[-1] - amostra[0]\n",
    "print(amplitude)"
   ]
  },
  {
   "cell_type": "markdown",
   "metadata": {
    "id": "B_T2fmSe4yH1"
   },
   "source": [
    "### Variância\n",
    "A variância é uma medida de dispersão que indica o quanto os valores de um conjunto de dados se afastam da média. Ela é calculada como a média dos quadrados dos desvios em relação à média.\n",
    "\n",
    "### Variância populacional:\n",
    "\n",
    "$$\n",
    "\\sigma^2 = \\frac{1}{N} \\sum_{i=1}^{N} (x_i - \\mu)^2\n",
    "$$\n",
    "\n",
    "Onde:\n",
    "- $\\sigma^2$ é a variância populacional,\n",
    "- $x_i$ são os valores do conjunto de dados,\n",
    "- $\\mu$ é a média populacional,\n",
    "- $N$ é o número total de elementos da população.\n",
    "\n",
    "### Variância amostral:\n",
    "\n",
    "$$\n",
    "s^2 = \\frac{1}{n - 1} \\sum_{i=1}^{n} (x_i - \\bar{x})^2\n",
    "$$\n",
    "\n",
    "Onde:\n",
    "- $s^2$ é a variância amostral,\n",
    "- $\\bar{x}$ é a média amostral,\n",
    "- $n$ é o número de elementos da amostra.\n",
    "\n",
    "A variância é expressa em **unidades elevadas ao quadrado**, por isso é comum usar o **desvio padrão** para facilitar a interpretação."
   ]
  },
  {
   "cell_type": "code",
   "execution_count": 45,
   "metadata": {
    "colab": {
     "base_uri": "https://localhost:8080/"
    },
    "executionInfo": {
     "elapsed": 449,
     "status": "ok",
     "timestamp": 1747617672021,
     "user": {
      "displayName": "Hedson Lopes",
      "userId": "00601403561073870653"
     },
     "user_tz": 180
    },
    "id": "diXo3_mVkXnC",
    "outputId": "c5ac7626-3a0a-4e44-87b0-89bcc3a855dc"
   },
   "outputs": [
    {
     "name": "stdout",
     "output_type": "stream",
     "text": [
      " = 64.63636363636364\n"
     ]
    }
   ],
   "source": [
    "def variancia(conjunto_de_dados):\n",
    "    \"\"\"Função para Variância\"\"\"\n",
    "    n = len(conjunto_de_dados) - 1\n",
    "    # Média\n",
    "    soma_dos_dados = 0\n",
    "    for i in conjunto_de_dados:\n",
    "        soma_dos_dados += i\n",
    "        mean = soma_dos_dados / n\n",
    "    # Desvio Padrão\n",
    "    somatorio = 0\n",
    "    for i in conjunto_de_dados:\n",
    "        somatorio = ((i - mean) ** 2) + somatorio\n",
    "    s_2 = (somatorio / n)\n",
    "    return s_2\n",
    "\n",
    "print(f\" = {variancia(amostra)}\")"
   ]
  },
  {
   "cell_type": "markdown",
   "metadata": {
    "id": "0ofTZw6b5Xwq"
   },
   "source": [
    "### Desvio Padrão\n",
    "O desvio padrão é a medida de dispersão mais utilizada na estatística. Ele indica o quanto, em média, os valores de um conjunto de dados se afastam da média.\n",
    "\n",
    "É calculado como a **raiz quadrada da variância**, permitindo que seja expresso na **mesma unidade dos dados**.\n",
    "\n",
    "### Desvio padrão populacional:\n",
    "\n",
    "$$\n",
    "\\sigma = \\sqrt{ \\frac{1}{N} \\sum_{i=1}^{N} (x_i - \\mu)^2 }\n",
    "$$\n",
    "\n",
    "Onde:\n",
    "- $\\sigma$ é o desvio padrão populacional,\n",
    "- $x_i$ são os valores do conjunto,\n",
    "- $\\mu$ é a média populacional,\n",
    "- $N$ é o número total de elementos da população.\n",
    "\n",
    "### Desvio padrão amostral:\n",
    "\n",
    "$$\n",
    "s = \\sqrt{ \\frac{1}{n - 1} \\sum_{i=1}^{n} (x_i - \\bar{x})^2 }\n",
    "$$\n",
    "\n",
    "Onde:\n",
    "- $s$ é o desvio padrão amostral,\n",
    "- $\\bar{x}$ é a média da amostra,\n",
    "- $n$ é o número de elementos da amostra.\n",
    "\n",
    "O desvio padrão ajuda a entender a **variabilidade dos dados**: quanto maior o desvio, mais dispersos estão os valores."
   ]
  },
  {
   "cell_type": "code",
   "execution_count": 46,
   "metadata": {
    "colab": {
     "base_uri": "https://localhost:8080/"
    },
    "executionInfo": {
     "elapsed": 18,
     "status": "ok",
     "timestamp": 1747616424422,
     "user": {
      "displayName": "Hedson Lopes",
      "userId": "00601403561073870653"
     },
     "user_tz": 180
    },
    "id": "K2yvZh-PCIlV",
    "outputId": "2722a2a7-61eb-4aa7-d90a-6fee97c77717"
   },
   "outputs": [
    {
     "name": "stdout",
     "output_type": "stream",
     "text": [
      " = 8.039674348900187\n"
     ]
    }
   ],
   "source": [
    "def desvio_padrao(conjunto_de_dados):\n",
    "    \"\"\"Função para Desvio Padrão\"\"\"\n",
    "    n = len(conjunto_de_dados) - 1\n",
    "    # Média\n",
    "    soma_dos_dados = 0\n",
    "    for i in conjunto_de_dados:\n",
    "        soma_dos_dados += i\n",
    "    mean = soma_dos_dados / n\n",
    "    # Desvio Padrão\n",
    "    somatorio = 0\n",
    "    for i in conjunto_de_dados:\n",
    "        somatorio = ((i - mean) ** 2) + somatorio\n",
    "    s = (somatorio / n) ** 0.5\n",
    "    return s\n",
    "\n",
    "print(f\" = {desvio_padrao(amostra)}\")"
   ]
  },
  {
   "cell_type": "markdown",
   "metadata": {
    "id": "JW0bJ9aK50qX"
   },
   "source": [
    "### Coeficiente de Variação\n",
    "O coeficiente de variação (CV) é uma medida **relativa de dispersão**, que expressa o desvio padrão em relação à média, geralmente em forma de **percentual**.\n",
    "\n",
    "Ele é útil para **comparar a variabilidade** entre conjuntos de dados com unidades ou escalas diferentes.\n",
    "\n",
    "A fórmula do coeficiente de variação é:\n",
    "\n",
    "### Para população:\n",
    "\n",
    "$$\n",
    "CV = \\frac{\\sigma}{\\mu} \\times 100\\%\n",
    "$$\n",
    "\n",
    "### Para amostra:\n",
    "\n",
    "$$\n",
    "CV = \\frac{s}{\\bar{x}} \\times 100\\%\n",
    "$$\n",
    "\n",
    "Onde:\n",
    "- $CV$ é o coeficiente de variação,\n",
    "- $\\sigma$ é o desvio padrão populacional,\n",
    "- $\\mu$ é a média populacional,\n",
    "- $s$ é o desvio padrão amostral,\n",
    "- $\\bar{x}$ é a média amostral.\n",
    "\n",
    "**Interpretação**:\n",
    "- Quanto maior o $CV$, maior a variabilidade em relação à média.\n",
    "- Um $CV$ muito alto pode indicar instabilidade nos dados."
   ]
  },
  {
   "cell_type": "code",
   "execution_count": 47,
   "metadata": {
    "colab": {
     "base_uri": "https://localhost:8080/"
    },
    "executionInfo": {
     "elapsed": 259,
     "status": "ok",
     "timestamp": 1747617329965,
     "user": {
      "displayName": "Hedson Lopes",
      "userId": "00601403561073870653"
     },
     "user_tz": 180
    },
    "id": "pR66suMfloJQ",
    "outputId": "6031f6ba-923a-4ff0-e214-f0d1447c29c1"
   },
   "outputs": [
    {
     "name": "stdout",
     "output_type": "stream",
     "text": [
      "9.68635463722914\n"
     ]
    }
   ],
   "source": [
    "def coeficiente_variacao(conjunto_de_dados):\n",
    "    \"\"\"Função para Coeficiente de Variação\"\"\"\n",
    "    n = len(conjunto_de_dados) - 1\n",
    "    # Média\n",
    "    soma_dos_dados = 0\n",
    "    for i in conjunto_de_dados:\n",
    "        soma_dos_dados += i\n",
    "    mean = soma_dos_dados / n\n",
    "    # Desvio Padrão\n",
    "    somatorio = 0\n",
    "    for i in conjunto_de_dados:\n",
    "        somatorio = ((i - mean) ** 2) + somatorio\n",
    "    s = (somatorio / n) ** 0.5\n",
    "    # Coeficiente de Variação\n",
    "    cv = (s / mean) * 100\n",
    "    return cv\n",
    "\n",
    "print(coeficiente_variacao(amostra))"
   ]
  },
  {
   "cell_type": "markdown",
   "metadata": {
    "id": "ROz5bZap6Z1S"
   },
   "source": [
    "### Distância Interquartílica\n",
    "A distância interquartílica (DIQ) é uma medida de dispersão que indica a amplitude da parte central dos dados, ou seja, a diferença entre o terceiro quartil ($Q_3$) e o primeiro quartil ($Q_1$).\n",
    "\n",
    "Ela é útil para entender a variação dos 50% centrais dos dados e é menos sensível a valores extremos (outliers) do que a amplitude total.\n",
    "\n",
    "A fórmula da distância interquartílica é:\n",
    "\n",
    "$$\n",
    "\\text{DIQ} = Q_3 - Q_1\n",
    "$$\n",
    "\n",
    "Onde:\n",
    "- $Q_1$ é o primeiro quartil (25º percentil),\n",
    "- $Q_3$ é o terceiro quartil (75º percentil)."
   ]
  },
  {
   "cell_type": "code",
   "execution_count": 48,
   "metadata": {
    "colab": {
     "base_uri": "https://localhost:8080/"
    },
    "executionInfo": {
     "elapsed": 445,
     "status": "ok",
     "timestamp": 1747622189697,
     "user": {
      "displayName": "Hedson Lopes",
      "userId": "00601403561073870653"
     },
     "user_tz": 180
    },
    "id": "CswdVrohmGO1",
    "outputId": "c1c61c22-0291-4717-e2e0-5ed178da94ab"
   },
   "outputs": [
    {
     "name": "stdout",
     "output_type": "stream",
     "text": [
      "4.5\n"
     ]
    }
   ],
   "source": [
    "def iqr(conjunto_de_dados):\n",
    "    \"\"\"Função para Distância Interquartílica / IQR - Interquartile Range\"\"\"\n",
    "    n = len(conjunto_de_dados)\n",
    "    # 1° Quartil\n",
    "    q_1 = (25 / 100) * n\n",
    "    if q_1 == int(q_1):\n",
    "        q_1 = int(q_1)\n",
    "        quartil_1 = (conjunto_de_dados[q_1 - 1] + conjunto_de_dados[q_1]) / 2\n",
    "    else:\n",
    "        q_1 = int(q_1) + 1\n",
    "        quartil_1 = conjunto_de_dados[q_1 - 1]\n",
    "    # 3° Quartil\n",
    "    q_3 = (75 / 100) * n\n",
    "    if q_3 == int(q_3):\n",
    "        q_3 = int(q_3)\n",
    "        quartil_3 = (conjunto_de_dados[q_3 - 1] + conjunto_de_dados[q_3]) / 2\n",
    "    else:\n",
    "        q_3 = int(q_3) + 1\n",
    "        quartil_3 = conjunto_de_dados[q_3 - 1]\n",
    "\n",
    "    diq = quartil_3 - quartil_1\n",
    "    return diq\n",
    "\n",
    "print(iqr(amostra))"
   ]
  },
  {
   "cell_type": "markdown",
   "metadata": {
    "id": "Z4ssiBXj7-T0"
   },
   "source": [
    "### Regra do **1,5 × DIQ**\n",
    "Após calcular a distância interquartílica (DIQ), é comum utilizar a regra do **1,5 × DIQ** para identificar valores discrepantes (outliers).\n",
    "\n",
    "Os limites para detectar esses valores são definidos como:\n",
    "\n",
    "$$\n",
    "\\begin{cases}\n",
    "\\text{Limite inferior} = Q_1 - 1{,}5 \\times \\text{DIQ} \\\\\n",
    "\\text{Limite superior} = Q_3 + 1{,}5 \\times \\text{DIQ}\n",
    "\\end{cases}\n",
    "$$\n",
    "\n",
    "Onde:\n",
    "- $Q_1$ é o primeiro quartil,\n",
    "- $Q_3$ é o terceiro quartil,\n",
    "- $\\text{DIQ} = Q_3 - Q_1$ é a distância interquartílica.\n",
    "\n",
    "Valores abaixo do limite inferior ou acima do limite superior são considerados **outliers** ou **valores discrepantes**."
   ]
  },
  {
   "cell_type": "code",
   "execution_count": 49,
   "metadata": {
    "colab": {
     "base_uri": "https://localhost:8080/"
    },
    "executionInfo": {
     "elapsed": 167,
     "status": "ok",
     "timestamp": 1748102113543,
     "user": {
      "displayName": "Hedson Lopes",
      "userId": "00601403561073870653"
     },
     "user_tz": 180
    },
    "id": "cdH3pLdoq23h",
    "outputId": "f28b6877-6248-41b1-ba93-c7a47c00b990"
   },
   "outputs": [
    {
     "name": "stdout",
     "output_type": "stream",
     "text": [
      "(66.75, 84.75)\n"
     ]
    }
   ],
   "source": [
    "def outliers(conjunto_de_dados):\n",
    "    \"\"\"Função para Regra do 1,5 × DIQ\"\"\"\n",
    "    n = len(conjunto_de_dados)\n",
    "    # 1° Quartil\n",
    "    q_1 = (25 / 100) * n\n",
    "    if q_1 == int(q_1):\n",
    "        q_1 = int(q_1)\n",
    "        quartil_1 = (conjunto_de_dados[q_1 - 1] + conjunto_de_dados[q_1]) / 2\n",
    "    else:\n",
    "        q_1 = int(q_1) + 1\n",
    "        quartil_1 = conjunto_de_dados[q_1 - 1]\n",
    "    # 3° Quartil\n",
    "    q_3 = (75 / 100) * n\n",
    "    if q_3 == int(q_3):\n",
    "        q_3 = int(q_3)\n",
    "        quartil_3 = (conjunto_de_dados[q_3 - 1] + conjunto_de_dados[q_3]) / 2\n",
    "    else:\n",
    "        q_3 = int(q_3) + 1\n",
    "        quartil_3 = conjunto_de_dados[q_3 - 1]\n",
    "    # IQR\n",
    "    diq = quartil_3 - quartil_1\n",
    "    # Valores Discrepantes\n",
    "    limite_inferior = quartil_1 - 1.5 * diq\n",
    "    limite_superior = quartil_3 + 1.5 * diq\n",
    "    return limite_inferior, limite_superior\n",
    "\n",
    "print(outliers(amostra))"
   ]
  }
 ],
 "metadata": {
  "colab": {
   "authorship_tag": "ABX9TyN0gBuTTevwQtVF07sq7Izx",
   "provenance": []
  },
  "kernelspec": {
   "display_name": "Python 3 (ipykernel)",
   "language": "python",
   "name": "python3"
  },
  "language_info": {
   "codemirror_mode": {
    "name": "ipython",
    "version": 3
   },
   "file_extension": ".py",
   "mimetype": "text/x-python",
   "name": "python",
   "nbconvert_exporter": "python",
   "pygments_lexer": "ipython3",
   "version": "3.11.13"
  }
 },
 "nbformat": 4,
 "nbformat_minor": 4
}
