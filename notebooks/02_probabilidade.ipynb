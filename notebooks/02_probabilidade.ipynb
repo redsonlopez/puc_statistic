{
 "cells": [
  {
   "cell_type": "markdown",
   "metadata": {
    "id": "KltbHHhJpDwJ"
   },
   "source": [
    "# <b>Probabilidade\n",
    "\n",
    "## Teorema de Bayes\n",
    "\n",
    "O Teorema de Bayes descreve a probabilidade de um evento, baseada em informações prévias que podem estar relacionadas ao evento.\n",
    "\n",
    "A fórmula do Teorema de Bayes é:\n",
    "\n",
    "$$\n",
    "P(A|B) = \\frac{P(B|A) \\cdot P(A)}{P(B)}\n",
    "$$\n",
    "\n",
    "Onde:\n",
    "\n",
    "- $P(A|B)$: probabilidade de $A$ dado que $B$ ocorreu (probabilidade posterior);\n",
    "- $P(B|A)$: probabilidade de $B$ dado que $A$ ocorreu (verossimilhança);\n",
    "- $P(A)$: probabilidade de $A$ (probabilidade a priori);\n",
    "- $P(B)$: probabilidade de $B$ (evidência total).\n",
    "\n",
    "---\n",
    "\n",
    "Se houver vários eventos $A_i$, a evidência $P(B)$ pode ser calculada como:\n",
    "\n",
    "$$\n",
    "P(B) = \\sum_{i=1}^{n} P(B|A_i) \\cdot P(A_i)\n",
    "$$\n",
    "\n",
    "Essa fórmula permite aplicar o teorema em contextos com múltiplas hipóteses.\n"
   ]
  },
  {
   "cell_type": "code",
   "execution_count": 17,
   "metadata": {
    "id": "U8cATbDyrKSV"
   },
   "outputs": [],
   "source": [
    "def bayes_theorem(likelihood, prior, evidence):\n",
    "    \"\"\"\n",
    "    Calcula a probabilidade posterior usando o Teorema de Bayes.\n",
    "    \n",
    "    Parâmetros:\n",
    "    - likelihood: P(B|A), verossimilhança\n",
    "    - prior: P(A), probabilidade a priori\n",
    "    - evidence: P(B), evidência\n",
    "\n",
    "    Retorna:\n",
    "    - posterior: P(A|B), probabilidade posterior\n",
    "    \"\"\"\n",
    "    if evidence == 0:\n",
    "        raise ValueError(\"A evidência não pode ser zero.\")\n",
    "    \n",
    "    posterior = (likelihood * prior) / evidence\n",
    "    return posterior"
   ]
  },
  {
   "cell_type": "markdown",
   "metadata": {},
   "source": [
    "Exemplo de uso do Teorema de Bayes:<br>\n",
    "1% da população tem uma doença.<br>\n",
    "O teste dá positivo em 99% dos casos com a doença e positivo em 5% dos casos sem a doença."
   ]
  },
  {
   "cell_type": "code",
   "execution_count": 19,
   "metadata": {},
   "outputs": [
    {
     "name": "stdout",
     "output_type": "stream",
     "text": [
      "Probabilidade de ter a doença dado teste positivo: 0.1667\n"
     ]
    }
   ],
   "source": [
    "P_A = 0.01              # Probabilidade de ter a doença\n",
    "P_B_given_A = 0.99      # Probabilidade do teste ser positivo dado que a pessoa tem a doença\n",
    "P_B_given_not_A = 0.05  # Probabilidade do teste ser positivo dado que a pessoa NÃO tem a doença\n",
    "P_not_A = 1 - P_A\n",
    "\n",
    "# Evidência total\n",
    "P_B = (P_B_given_A * P_A) + (P_B_given_not_A * P_not_A)\n",
    "\n",
    "# Aplicando o Teorema de Bayes\n",
    "posterior = bayes_theorem(P_B_given_A, P_A, P_B)\n",
    "print(f\"Probabilidade de ter a doença dado teste positivo: {posterior:.4f}\")"
   ]
  },
  {
   "cell_type": "code",
   "execution_count": null,
   "metadata": {},
   "outputs": [],
   "source": []
  }
 ],
 "metadata": {
  "colab": {
   "authorship_tag": "ABX9TyN84w+w68saBui/WuDGbI3/",
   "provenance": []
  },
  "kernelspec": {
   "display_name": "Python 3 (ipykernel)",
   "language": "python",
   "name": "python3"
  },
  "language_info": {
   "codemirror_mode": {
    "name": "ipython",
    "version": 3
   },
   "file_extension": ".py",
   "mimetype": "text/x-python",
   "name": "python",
   "nbconvert_exporter": "python",
   "pygments_lexer": "ipython3",
   "version": "3.11.13"
  }
 },
 "nbformat": 4,
 "nbformat_minor": 4
}
