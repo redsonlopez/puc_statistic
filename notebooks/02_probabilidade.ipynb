{
 "cells": [
  {
   "cell_type": "markdown",
   "metadata": {
    "id": "KltbHHhJpDwJ"
   },
   "source": [
    "# <b>Probabilidade"
   ]
  },
  {
   "cell_type": "code",
   "execution_count": 1,
   "metadata": {
    "id": "U8cATbDyrKSV"
   },
   "outputs": [],
   "source": [
    "# Teorema de Bayes\n",
    "def teorema_de_bayes(p_b_dado_a, p_a, p_b):\n",
    "    \"\"\"\n",
    "    Calcula P(A|B) usando o Teorema de Bayes.\n",
    "\n",
    "    Parâmetros:\n",
    "    - p_b_dado_a: P(B|A)\n",
    "    - p_a: P(A)\n",
    "    - p_b: P(B)\n",
    "\n",
    "    Retorna:\n",
    "    - P(A|B)\n",
    "    \"\"\"\n",
    "    if p_b == 0:\n",
    "        raise ValueError(\"P(B) não pode ser zero.\")\n",
    "\n",
    "    return (p_b_dado_a * p_a) / p_b\n"
   ]
  },
  {
   "cell_type": "code",
   "execution_count": 2,
   "metadata": {
    "colab": {
     "base_uri": "https://localhost:8080/"
    },
    "executionInfo": {
     "elapsed": 76,
     "status": "ok",
     "timestamp": 1747966705843,
     "user": {
      "displayName": "Hedson Lopes",
      "userId": "00601403561073870653"
     },
     "user_tz": 180
    },
    "id": "it3FTFob7krR",
    "outputId": "0e139f53-d60d-4af5-d8cf-ad953b4e1390"
   },
   "outputs": [
    {
     "name": "stdout",
     "output_type": "stream",
     "text": [
      "P(A|B) = 0.1800\n"
     ]
    }
   ],
   "source": [
    "resultado = teorema_de_bayes(p_b_dado_a=0.9, p_a=0.01, p_b=0.05)\n",
    "print(f\"P(A|B) = {resultado:.4f}\")\n"
   ]
  }
 ],
 "metadata": {
  "colab": {
   "authorship_tag": "ABX9TyN84w+w68saBui/WuDGbI3/",
   "provenance": []
  },
  "kernelspec": {
   "display_name": "Python 3 (ipykernel)",
   "language": "python",
   "name": "python3"
  },
  "language_info": {
   "codemirror_mode": {
    "name": "ipython",
    "version": 3
   },
   "file_extension": ".py",
   "mimetype": "text/x-python",
   "name": "python",
   "nbconvert_exporter": "python",
   "pygments_lexer": "ipython3",
   "version": "3.11.13"
  }
 },
 "nbformat": 4,
 "nbformat_minor": 4
}
